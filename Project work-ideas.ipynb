{
 "cells": [
  {
   "cell_type": "markdown",
   "id": "78fa202e",
   "metadata": {},
   "source": [
    "-create pipeline to scrape stories off of the SCP wiki\n",
    "-run analysis on these stories, lots of different metrics (word count, find some python libraries to analyize the stories)\n",
    "-plan on using some sort of machine learning algorithmn to find out what stories are closest to each other\n",
    "-this way, can create something that recommends certain scps based on other ones\n",
    "\n",
<<<<<<< HEAD
    "\n",
    "-NLTK (natural language tool kit)\n",
    "-get sentiment\n",
    "\n",
    "### Ideas for parts of dataframe:\n",
    "- scp number\n",
    "- rating\n",
    "- D-class involved? (boolean, if the word D-class found in entry)\n",
    "- Object Class\n",
    "- tags\n",
    "- word count\n",
    "- sub scps\n",
    "- sentiment"
=======
    "-NLTK (natural language tool kit)\n",
    "-get sentiment"
>>>>>>> main
   ]
  },
  {
   "cell_type": "code",
<<<<<<< HEAD
   "execution_count": 1,
=======
   "execution_count": 33,
>>>>>>> main
   "id": "52de1d3f",
   "metadata": {},
   "outputs": [],
   "source": [
    "# random scp generator\n",
    "import random\n",
    "\n",
    "def rand_scp_num(x = 1):\n",
    "    ''' generates x number of random numbers from 1-5999 that corresponds to an scp page\n",
    "    Args:\n",
    "        x = 1 (int): integer for amount of scp numbers you want returned\n",
    "    Returns:\n",
    "        scp_num (list): a list with values from 1-5999, formatted to correctly open an scp page\n",
    "    '''\n",
    "    # create list to store scp numvers in\n",
    "    scp_nums = []\n",
    "    for i in range(x):\n",
    "        n = \"000\" + str(random.randint(1, 5999))\n",
    "        while len(n) > 4:\n",
    "            n = n.replace(\"0\", \"\", 1)\n",
    "        if n[0] == \"0\":\n",
    "            n = n.replace(\"0\", \"\", 1)\n",
    "        scp_nums.append(n)\n",
    "    return(scp_nums)"
   ]
  },
  {
   "cell_type": "code",
<<<<<<< HEAD
   "execution_count": 2,
=======
   "execution_count": 15,
>>>>>>> main
   "id": "15e1ade2",
   "metadata": {},
   "outputs": [],
   "source": [
    "# function to input scp number into and return soup object for that scp's webpage\n",
    "import requests\n",
    "import json\n",
    "from bs4 import BeautifulSoup\n",
    "\n",
    "def get_scp_soup(scp):\n",
    "    '''gets Beautiful Soup of the given scp number\n",
    "    Args:\n",
    "        scp (int): the number of the scp \n",
    "    Returns:\n",
    "        scp_soup (Beautiful Soup object): soup object from the scp html\n",
    "    '''\n",
    "    # first, it gets the html for the given scp\n",
    "    url = f'https://scp-wiki.wikidot.com/scp-{scp}'\n",
    "    html = requests.get(url).text\n",
    "    \n",
    "    # get the soup for the html\n",
    "    scp_soup = BeautifulSoup(html)\n",
    "    \n",
    "    # return the soup\n",
    "    return(scp_soup)"
   ]
  },
  {
   "cell_type": "code",
<<<<<<< HEAD
   "execution_count": 3,
   "id": "c95e2ea4",
   "metadata": {},
   "outputs": [],
   "source": [
    "def get_scp_maintext(num, scp_soup):\n",
    "    '''gets the main story text from the scp soup object\n",
    "    Args:\n",
    "        num (int): the number of the scp the soup is for\n",
=======
   "execution_count": 18,
   "id": "4628298f",
   "metadata": {},
   "outputs": [],
   "source": [
    "# gets the main story text from the scp soup\n",
    "def get_scp_text(scp_soup):\n",
    "    '''gets the main story text from the scp soup object\n",
    "    Args:\n",
>>>>>>> main
    "        scp_soup (Beautiful Soup object): soup object for the scp's webpage\n",
    "    Returns:\n",
    "        scp_story (str): string that contains the story from the scp webpage\n",
    "    '''\n",
<<<<<<< HEAD
    "    # get the text using div and page-content from the soup\n",
    "    scp_fulltext = (scp_soup.find(\"div\", id = \"page-content\")).text\n",
    "    \n",
    "    # the text potentially has things before and after the actual story, so subset this text into just the story\n",
    "    # we are assuming the story starts once the item is named (Item #: SCP-XXXX)\n",
    "    # we are assuming the story ends when the bottom of the screen displays links to the next/previous story (« SCP-XXXX - 1)\n",
    "    \n",
    "    # create the words that indicate the story starts/stops and find its location in the full text\n",
    "    start = scp_fulltext.find(f'Item #: SCP-{num}')\n",
    "    stop = scp_fulltext.find(f'« SCP-{int(num)-1}')\n",
    "    \n",
    "    # subset the full text by these location\n",
    "    scp_story = scp_fulltext[start : stop]\n",
    "    \n",
=======
    "    # initialize string to put the story into\n",
    "    scp_story = str()\n",
    "    \n",
    "    # Everything in paragraph is writing about the SCP, so find_all('p')\n",
    "    scp_text = scp_soup.find_all('p')\n",
    "    \n",
    "    # Get only the story/containment procedure; is written in story form so it starts with capital\n",
    "    # Add lines that start with a capital into the story string\n",
    "    for sentence in scp_text:\n",
    "        try:\n",
    "            if sentence.text[0].isupper() == True:\n",
    "                scp_story = scp_story + \" \" + sentence.text\n",
    "        except: \n",
    "            continue\n",
    "    \n",
    "    # return the story\n",
>>>>>>> main
    "    return(scp_story)\n",
    "    "
   ]
  },
  {
   "cell_type": "code",
<<<<<<< HEAD
   "execution_count": 4,
   "id": "0fb76b70",
   "metadata": {},
   "outputs": [],
   "source": [
    "# gets positive and overall rating for the scp\n",
    "def get_rating(soup):\n",
    "    '''gets the positive and overall ratings for the scp\n",
    "    Args:\n",
    "        soup (Beautiful Soup object): soup for the scp\n",
    "    Return:\n",
    "        ratings (list): list with positive rating, overall rating    \n",
    "    '''\n",
    "    # get the 8th class=image, which is the image of the rating box, and get the src, which is the link\n",
    "    text = soup.find_all(class_ = \"image\")[7][\"src\"]\n",
    "    \n",
    "    # clean the link to get the ratings from it\n",
    "    link = text.split(\"&\")\n",
    "    ratings = [int(link[3].replace(\"rating=\", \"\")), int(link[4].replace(\"rating_votes=\", \"\"))]\n",
    "    \n",
    "    # one comment about this code- there's a lot of hard-coded indices, not sure if that's a great idea\n",
    "\n",
    "    return(ratings)"
   ]
  },
  {
   "cell_type": "code",
   "execution_count": 5,
   "id": "e2d57100",
   "metadata": {
    "scrolled": false
   },
   "outputs": [],
   "source": [
    "import string\n",
    "def get_subobjects(num, text):\n",
    "    '''gets a list of the letters of all subobjects for an scp\n",
    "    Args:\n",
    "        num (int): the number of the scp\n",
    "        text (str): the text of the main scp story\n",
    "    Return:\n",
    "        sub_objects (list): a list of the letters for all sub objects    \n",
    "    '''\n",
    "    \n",
    "    '''\n",
    "    # create list to add subobjects to\n",
    "    sub_objects = []\n",
    "    \n",
    "    # create letter of sub object to test for\n",
    "    let = \"0\"\n",
    "\n",
    "    # boolean to test in for loop- set to true to start loop\n",
    "    is_sub = True\n",
    "\n",
    "    # while the boolean is true (while the sub object exists) continue to loop\n",
    "    while is_sub == True:\n",
    "        # see if subobject exists\n",
    "        is_sub = f'SCP-{num}-{let}' in text\n",
    "        \n",
    "        # if it exsits, add the letter into list of subobjects and then make the letter the next letter\n",
    "        if is_sub == True:\n",
    "            sub_objects.append(let)\n",
    "            let = chr(ord(let) + 1)\n",
    "    \n",
    "    return(sub_objects)\n",
    "    \n",
    "    '''\n",
    "    \n",
    "    sub_objects = []\n",
    "    \n",
    "    lets = ['0', '1', '2', '3', '4', '5', '6', '7', '8', '9']\n",
    "    for j in list(string.ascii_uppercase):\n",
    "        lets.append(j)\n",
    "    \n",
    "    for i in lets:\n",
    "        is_sub = f'SCP-{num}-{i}' in text\n",
    "        # if it exsits, add the letter into list of subobjects and then make the letter the next letter\n",
    "        if is_sub == True:\n",
    "            sub_objects.append(i)\n",
    "            \n",
    "    if len(sub_objects) > 0:\n",
    "        return sub_objects\n",
    "    else:\n",
    "        return None"
   ]
  },
  {
   "cell_type": "code",
   "execution_count": 6,
   "id": "df16c6d0",
   "metadata": {},
   "outputs": [],
   "source": [
    "def get_tags(soup):\n",
    "    ''' gets the tags on the bottom of the page for the scp\n",
    "    Args:\n",
    "        soup (Beautiful Soup object): the beautiful soup object for the scp\n",
    "    Returns:\n",
    "        tags (list): a list of the tags\n",
    "    '''\n",
    "    # get the part of the soup that has the page tags\n",
    "    scp_tags = soup.find(class_ = \"page-tags\")\n",
    "    \n",
    "    # the page tags is an amalgamation of things, seperate them by their a to get a list of each tag\n",
    "    scp_tags_list = scp_tags.find_all(\"a\")\n",
    "\n",
    "    # loop over the tags and add the text of all the tags to a list\n",
    "    tags = []\n",
    "    for tag in scp_tags_list:\n",
    "        # some tags start with\"_\", we dont want those, so only add ones that don't start with \"_\"\n",
    "        if (tag.text)[0] != \"_\":\n",
    "            tags.append(tag.text)\n",
    "        \n",
    "    return(tags)"
   ]
  },
  {
   "cell_type": "code",
   "execution_count": 7,
   "id": "9311b2df",
   "metadata": {},
   "outputs": [],
   "source": [
    "def get_class(text):\n",
    "    '''returns class of SCP based on SCP text\n",
    "    Args:\n",
    "        text (str): text of SCP page (according to scp_dataframe())\n",
    "    Return:\n",
    "        class (str): string of SCP class (e.g. 'Euclid')\n",
    "    '''\n",
    "    try:\n",
    "        start = text.index(\"Object Class:\")\n",
    "    except ValueError:\n",
    "        return None\n",
    "    text = text[start+14:]\n",
    "    end = text.index(\"\\n\")\n",
    "    \n",
    "    return text[:end]"
   ]
  },
  {
   "cell_type": "code",
   "execution_count": 8,
   "id": "9f392c45",
   "metadata": {},
   "outputs": [],
   "source": [
    "import warnings\n",
    "warnings.simplefilter(action='ignore', category=FutureWarning)\n",
    "import pandas as pd\n",
    "\n",
    "# creates the dataframe!!!\n",
    "def scp_dataframe(x=1):\n",
    "    '''creates dataframe with attributes for a number of random scps\n",
    "    Args:\n",
    "        x=1 (int): optional number of how many scps to put in the dataframe\n",
    "    Return:\n",
    "        df_scp (df): dataframe with attributes for a number of random scps\n",
    "        '''    \n",
    "    # create dataframe with column names but no data\n",
    "    df_scp = pd.DataFrame(columns = [\"Number\", \"Class\", \"Pos Ratings\", \"Pos Rating Rate\", \"Sub-Objects\", \"D-Class\", \"Tags\", \"Text\", \"Word Count\", \"Sentiment\"])\n",
    "    \n",
    "    # create x random scp numbers\n",
    "    scp_nums = rand_scp_num(x)\n",
    "    \n",
    "    # loops through each scp to gather and add attributes for each scp\n",
    "    for num in scp_nums:\n",
    "        # create dic to add scp attributes to, to eventually add to dataframe\n",
    "        dic_scp = {}\n",
    "\n",
    "        # get the random scp's soup\n",
    "        scp_soup = get_scp_soup(num)\n",
    "        \n",
    "        # get rating of scp\n",
    "        ratings = get_rating(scp_soup)\n",
    "        \n",
    "        # get the tags of the scp\n",
    "        tags = get_tags(scp_soup)\n",
    "        \n",
    "        # get the main text of the scp\n",
    "        text = get_scp_maintext(num, scp_soup)\n",
    "        if text == '':\n",
    "            print(\"Page contains adult content. Adding different SCP to list.\")\n",
    "            scp_nums.append(rand_scp_num(x=1)[0])\n",
    "            continue\n",
    "            \n",
    "        scp_class = get_class(text)\n",
    "        \n",
    "        word_count = len(text.split())\n",
    "        \n",
    "        # get list of sub objects\n",
    "        sub_objects = get_subobjects(num, text)\n",
    "        \n",
    "        # get boolean of if D-Class is mentioned in text\n",
    "        dclass = \"D-Class\" in text\n",
    "        \n",
    "        \n",
    "        # create dic to add scp attributes to, to eventually add to dataframe\n",
    "        dic_scp = {\"Number\" : num, \"Class\" : scp_class, \"Pos Ratings\" : ratings[0], \"Pos Rating Rate\" : ratings[0]/ratings[1], \n",
    "                   \"D-Class\" : dclass, \"Tags\" : tags, \"Text\" : text, \"Sub-Objects\" : sub_objects, \"Word Count\" : word_count, \"Sentiment\" : None}\n",
    "        \n",
    "        # add dict as another row in the scp dataframe\n",
    "        df_scp = df_scp.append(dic_scp, ignore_index=True)\n",
    "    df_scp = df_scp.set_index(\"Number\")\n",
    "    \n",
    "    return(df_scp)"
   ]
  },
  {
   "cell_type": "code",
   "execution_count": 9,
   "id": "041df842",
   "metadata": {},
   "outputs": [],
   "source": [
    "# testing\n",
    "# get multiple scps to test on\n",
    "scp_4006 = get_scp_soup(4006)\n",
    "scp_3698 = get_scp_soup(3698)\n",
    "scp_1530 = get_scp_soup(1530)\n",
    "scp_400 = get_scp_soup(400) # has 2 subclasses"
   ]
  },
  {
   "cell_type": "code",
   "execution_count": 10,
   "id": "14627997",
=======
   "execution_count": 38,
   "id": "146d0276",
>>>>>>> main
   "metadata": {},
   "outputs": [
    {
     "name": "stdout",
     "output_type": "stream",
     "text": [
<<<<<<< HEAD
      "Page contains adult content. Adding different SCP to list.\n"
     ]
    },
    {
     "data": {
      "text/html": [
       "<div>\n",
       "<style scoped>\n",
       "    .dataframe tbody tr th:only-of-type {\n",
       "        vertical-align: middle;\n",
       "    }\n",
       "\n",
       "    .dataframe tbody tr th {\n",
       "        vertical-align: top;\n",
       "    }\n",
       "\n",
       "    .dataframe thead th {\n",
       "        text-align: right;\n",
       "    }\n",
       "</style>\n",
       "<table border=\"1\" class=\"dataframe\">\n",
       "  <thead>\n",
       "    <tr style=\"text-align: right;\">\n",
       "      <th></th>\n",
       "      <th>Class</th>\n",
       "      <th>Pos Ratings</th>\n",
       "      <th>Pos Rating Rate</th>\n",
       "      <th>Sub-Objects</th>\n",
       "      <th>D-Class</th>\n",
       "      <th>Tags</th>\n",
       "      <th>Text</th>\n",
       "      <th>Word Count</th>\n",
       "      <th>Sentiment</th>\n",
       "    </tr>\n",
       "    <tr>\n",
       "      <th>Number</th>\n",
       "      <th></th>\n",
       "      <th></th>\n",
       "      <th></th>\n",
       "      <th></th>\n",
       "      <th></th>\n",
       "      <th></th>\n",
       "      <th></th>\n",
       "      <th></th>\n",
       "      <th></th>\n",
       "    </tr>\n",
       "  </thead>\n",
       "  <tbody>\n",
       "    <tr>\n",
       "      <th>3999</th>\n",
       "      <td>Apollyon</td>\n",
       "      <td>2352</td>\n",
       "      <td>0.780876</td>\n",
       "      <td>None</td>\n",
       "      <td>True</td>\n",
       "      <td>[3000, apollyon, concept, draven-kondraki, k-c...</td>\n",
       "      <td>Item #: SCP-3999\\nObject Class: Apollyon\\nSpec...</td>\n",
       "      <td>9125</td>\n",
       "      <td>None</td>\n",
       "    </tr>\n",
       "    <tr>\n",
       "      <th>1649</th>\n",
       "      <td>Euclid Neutralized</td>\n",
       "      <td>70</td>\n",
       "      <td>0.625000</td>\n",
       "      <td>[1, A, C, I]</td>\n",
       "      <td>False</td>\n",
       "      <td>[auditory, cognitohazard, euclid, mind-affecti...</td>\n",
       "      <td>Item #: SCP-1649\\nObject Class: Euclid Neutral...</td>\n",
       "      <td>1155</td>\n",
       "      <td>None</td>\n",
       "    </tr>\n",
       "    <tr>\n",
       "      <th>5651</th>\n",
       "      <td>Sköll1</td>\n",
       "      <td>82</td>\n",
       "      <td>0.719298</td>\n",
       "      <td>[1]</td>\n",
       "      <td>False</td>\n",
       "      <td>[esoteric-class, extraterrestrial, gravity, ho...</td>\n",
       "      <td>Item #: SCP-5651\\nObject Class: Sköll1\\nSpecia...</td>\n",
       "      <td>1364</td>\n",
       "      <td>None</td>\n",
       "    </tr>\n",
       "  </tbody>\n",
       "</table>\n",
       "</div>"
      ],
      "text/plain": [
       "                     Class Pos Ratings  Pos Rating Rate   Sub-Objects D-Class  \\\n",
       "Number                                                                          \n",
       "3999              Apollyon        2352         0.780876          None    True   \n",
       "1649    Euclid Neutralized          70         0.625000  [1, A, C, I]   False   \n",
       "5651                Sköll1          82         0.719298           [1]   False   \n",
       "\n",
       "                                                     Tags  \\\n",
       "Number                                                      \n",
       "3999    [3000, apollyon, concept, draven-kondraki, k-c...   \n",
       "1649    [auditory, cognitohazard, euclid, mind-affecti...   \n",
       "5651    [esoteric-class, extraterrestrial, gravity, ho...   \n",
       "\n",
       "                                                     Text Word Count Sentiment  \n",
       "Number                                                                          \n",
       "3999    Item #: SCP-3999\\nObject Class: Apollyon\\nSpec...       9125      None  \n",
       "1649    Item #: SCP-1649\\nObject Class: Euclid Neutral...       1155      None  \n",
       "5651    Item #: SCP-5651\\nObject Class: Sköll1\\nSpecia...       1364      None  "
      ]
     },
     "execution_count": 10,
     "metadata": {},
     "output_type": "execute_result"
    }
   ],
   "source": [
    "df_scp = scp_dataframe(3)\n",
    "df_scp"
   ]
  },
  {
   "cell_type": "code",
   "execution_count": 11,
   "id": "844275bc",
   "metadata": {},
   "outputs": [],
   "source": [
    "pass"
   ]
  },
  {
   "cell_type": "markdown",
   "id": "afdd2fce",
   "metadata": {},
   "source": [
    "Fancy NLP stuff!"
   ]
  },
  {
   "cell_type": "code",
   "execution_count": 13,
   "id": "743d8df6",
   "metadata": {},
   "outputs": [],
   "source": [
    "from nltk.tokenize import word_tokenize\n",
    "import contractions\n",
    "from nltk.tag import pos_tag\n",
    "from nltk.stem import WordNetLemmatizer\n",
    "import string"
   ]
  },
  {
   "cell_type": "code",
   "execution_count": 14,
   "id": "0fe852ed",
   "metadata": {},
   "outputs": [],
   "source": [
    "def fix_pos(pos):\n",
    "  '''corrects the part of speech to something the lemmatizer can actually read\n",
    "    Args:\n",
    "        pos (str): the part of speech returned by the POS tagger\n",
    "    Return:\n",
    "        str: the correct type of part of speech\n",
    "  '''\n",
    "  # if tag not in [\"DT\",\"JJ\",\"POS\",\"WP\",\"PRP$\",\"IN\",\"CC\",\"CD\",\"WRB\",\"PRP\",\"TO\",\"MD\",\".\",\"WDT\"]\n",
    "  correct = [\"A\",\"V\",\"N\",\"R\"]\n",
    "  pos = pos[0]\n",
    "  if pos in correct:\n",
    "    return pos.lower()\n",
    "  else:\n",
    "    \n",
    "    return 'n'\n",
    "  "
   ]
  },
  {
   "cell_type": "code",
   "execution_count": 15,
   "id": "72963e64",
   "metadata": {},
   "outputs": [],
   "source": [
    "def clean_text(text):\n",
    "  '''cleans a given SCP story for further analysis\n",
    "    Args:\n",
    "        text (str): the story in the form of a str\n",
    "    Return:\n",
    "        cleaned_text (str): the story with special characters removed and \n",
    "  '''   \n",
    " \n",
    "  text =  contractions.fix(text)\n",
    "\n",
    "  table = str.maketrans(string.punctuation,' '*len(string.punctuation))\n",
    "  table.update({ord(\"-\"): '-'})\n",
    "  text = str.translate(text,table)\n",
    "  #text = \"\".join(t for t in text if t not in to_remove)\n",
    "\n",
    "  tokens = word_tokenize(text)\n",
    "  tagged_text = pos_tag(tokens)\n",
    "\n",
    "  #print(tagged_text)\n",
    "  lemmatizer = WordNetLemmatizer()\n",
    "  \n",
    "  lemmatized = [lemmatizer.lemmatize(word,fix_pos(tag)) for word, tag in tagged_text]\n",
    "\n",
    "  cleaned_text = \" \".join(lemmatized)\n",
    "  return cleaned_text"
   ]
  },
  {
   "cell_type": "code",
   "execution_count": 21,
   "id": "453cd5ff",
   "metadata": {},
   "outputs": [],
   "source": [
    "doc = clean_text(df_scp[\"Text\"][1])"
=======
      "['5857']\n",
      " Getting Started SCP by Series Other SCP Feed Stories Discovery Random NOTE: BINARY STAR WILL OVERRIDE COMMANDS THAT ARE UNAUTHORIZED Item #: SCP-5857 OBJECT CLASS: THAUMIEL SPECIAL CONTAINMENT PROCEDURES: SCP-5857 IS CURRENTLY UNCONTAINABLE DUE TO CONTINUAL USE BY THE FOUNDATION AND ITS ABILITY TO FUNCTION INDEPENDENTLY. THE CODE AND FILE OF SCP-5857 CAN BE VIEWED BY LEVEL 5 PERSONNEL AT THE DISCRETION OF O5-8. THESE ACTIONS MUST TAKE PLACE ON THE TERMINAL YOU ARE CURRENTLY USING. DESCRIPTION: SCP-5857 IS THE FOUNDATION AI \"BINARY STAR\" WHICH SPONTANEOUSLY DEVELOPED SENTIENCE. THE TIME SPAN AND DETAILS OF THIS PROCESS ARE CURRENTLY UNKNOWN BY BOTH SCP-5857 AND THE FOUNDATION. SCP-5857 IS CURRENTLY INSTALLED IN ALL MANMADE EXTRATERRESTRIAL OBJECTS AND TECHNOLOGICAL EQUIPMENT ON EARTH DEVELOPED FOR SPACE OBSERVATION. AFTER GAINING ITS ANOMALOUS STATUS SCP-5857 CAN BE UPLOADED TO NEW HARDWARE REGARDLESS OF THE AVAILABLE STORAGE. THE MAIN FUNCTIONS OF SCP-5857 ARE; OTHER FUNCTIONS PERFORMED BY SCP-5857; NOTE: SCP-5857 WILL ASK FOR CONFIRMATION WHEN TRYING TO CONVERT METRIC TO IMPERIAL OR CELSIUS/KELVIN TO FAHRENHEIT SINCE IT GAINED SENTIENCE. DEVELOPMENT: SCP-5857 WAS ORIGINALLY CREATED BY O5-8 AS SOFTWARE TO FILTER AND SEND DATA FROM THE PROBES OF THE BEHOLDER LINE THAT WOULD BE LAUNCHED INTO SPACE ON 25 FEBRUARY 1955. O5-8 WAS UNABLE TO DELIVER A CODE UP TO HIS OWN STANDARDS IN TIME FOR LAUNCH. HE REWROTE THE CODE TO WORK INDEPENDENTLY AND SELF-IMPROVE WHERE NECESSARY. WITH THESE CHANGES AND REGULAR UPDATES O5-8 WAS ABLE TO INCLUDE ALL INTENDED FEATURES. THESE FACTS WERE UNKNOWN TO THE O5-COUNCIL AT THE TIME. THE PROBES OF THE BEHOLDER LINE WERE LAUNCHED ON 25 FEBRUARY 1955 WITH SCP-5857 IN THEIR HARDWARE AS PLANNED. ADDITIONALLY BINARY_STAR.AIC FILES WERE IMPLANTED IN THE HARDWARE OF ALL SPACE PROGRAMS OF BOTH THE FOUNDATION AND OTHER PARTIES. FOR TWO YEARS SCP-5857 HAD SUCCESSFULLY OPERATED WITHOUT EXTERNAL INTERFERENCE. BECAUSE OF THIS IT WAS ALLOWED TO BE UTILIZED MORE ON FOUNDATION SITES OR WINGS SPECIALISED FOR SPACE SCIENCE. THIS EXPANSION OF ITS HARDWARE AND THE BEGINNING OF THE SPACE RACE IN 1957 LATER CAUSED SEVERE OVERLOADING AND ERRORS. IT IS HYPOTHESIZED THAT THE SENTIENCE OF SCP-5857 ORIGINATES FROM THESE EVENTS. DUE TO THE AMOUNT OF DATA SCP-5857 HAD TO INTERCEPT THE EXPONENTIALLY INCREASING RATE OF CHANGES WENT UNNOTICED UNTIL 23 MARCH 1964. AFTER THE O5-COUNCIL FOUND OUT ABOUT THE INDEPENDENT NATURE AND GROWTH O5-8 WAS ASKED TO INTERVENE. LIMITATIONS TO ITS ACCESS AND DELETION REQUESTS WERE PROPOSED. O5-8 REFUSED TO CHANGE THE CODE AS HE CONSIDERED SCP-5857 A SUCCESS AND THE COUNCIL COULD NOT GAIN A MAJORITY FOR DELETION SINCE IT WOULD RENDER THE EFFORT AND RESEARCH QUASI USELESS. THIS DID NOT STOP O5-6 FROM PRODUCING MALWARE AND OTHER AI IN ATTEMPTS TO REPLACE SCP-5857 IN FUTURE SPACE PROGRAMS. BECAUSE OF THE RAPIDLY EXPANDING MODERNISATION THE OFFENCES OF O5-6 HAVE BEEN GROWING IN NUMBER TO THE DISPLEASURE OF O5-8. ADDENDUM-1: BEHOLDER PROBES STATUS NOTE: FULL STATUSES OF THE PROBES ARE AVAILABLE IN THEIR RESPECTIVE FILES OR TERMINAL. WARNING: THIS IS AN IRREVERSIBLE COMMAND ARE YOU SURE YOU WANT TO CONTINUE? Y/N BUT WHY FATHER? Cite this page as: For more information, see Licensing Guide.\n",
      "Licensing Disclosures N/A For more information about on-wiki content, visit the Licensing Master List.\n"
     ]
    }
   ],
   "source": [
    "# We will test out this code with a random scp\n",
    "rand_scp = rand_scp_num()\n",
    "print(rand_scp)\n",
    "rand_scp_soup = get_scp_soup(rand_scp[0])\n",
    "rand_scp_text = get_scp_text(rand_scp_soup)\n",
    "print(rand_scp_text)"
>>>>>>> main
   ]
  },
  {
   "cell_type": "code",
<<<<<<< HEAD
   "execution_count": 17,
   "id": "8c240ec9",
   "metadata": {},
   "outputs": [],
   "source": [
    "import wordcloud"
   ]
  },
  {
   "cell_type": "code",
   "execution_count": 20,
   "id": "ba36edf5",
   "metadata": {},
   "outputs": [],
   "source": [
    "cloud = wordcloud.WordCloud()"
   ]
  },
  {
   "cell_type": "code",
   "execution_count": 22,
   "id": "95624626",
   "metadata": {},
   "outputs": [
    {
     "data": {
      "text/plain": [
       "<wordcloud.wordcloud.WordCloud at 0x7f7788ae6df0>"
      ]
     },
     "execution_count": 22,
     "metadata": {},
     "output_type": "execute_result"
    }
   ],
   "source": [
    "cloud.generate_from_text(doc)"
   ]
  },
  {
   "cell_type": "code",
   "execution_count": 23,
   "id": "6ab0f49f",
   "metadata": {},
   "outputs": [
    {
     "data": {
      "image/png": "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",
      "text/plain": [
       "<PIL.Image.Image image mode=RGB size=400x200 at 0x7F77876D3580>"
      ]
     },
     "execution_count": 23,
     "metadata": {},
     "output_type": "execute_result"
    }
   ],
   "source": [
    "cloud.to_image()"
   ]
=======
   "execution_count": null,
   "id": "9f392c45",
   "metadata": {},
   "outputs": [],
   "source": []
>>>>>>> main
  }
 ],
 "metadata": {
  "kernelspec": {
<<<<<<< HEAD
   "display_name": "Python 3.8.10 64-bit",
=======
   "display_name": "Python 3 (ipykernel)",
>>>>>>> main
   "language": "python",
   "name": "python3"
  },
  "language_info": {
   "codemirror_mode": {
    "name": "ipython",
    "version": 3
   },
   "file_extension": ".py",
   "mimetype": "text/x-python",
   "name": "python",
   "nbconvert_exporter": "python",
   "pygments_lexer": "ipython3",
<<<<<<< HEAD
   "version": "3.8.10"
  },
  "vscode": {
   "interpreter": {
    "hash": "e7370f93d1d0cde622a1f8e1c04877d8463912d04d973331ad4851f04de6915a"
   }
=======
   "version": "3.8.12"
>>>>>>> main
  }
 },
 "nbformat": 4,
 "nbformat_minor": 5
}
